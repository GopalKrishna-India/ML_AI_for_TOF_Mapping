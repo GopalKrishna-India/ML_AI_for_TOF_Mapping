{
  "cells": [
    {
      "cell_type": "markdown",
      "metadata": {
        "id": "view-in-github",
        "colab_type": "text"
      },
      "source": [
        "<a href=\"https://colab.research.google.com/github/GopalKrishna-India/ML_AI_for_TOF_Mapping/blob/main/UP1_BuildingTensorFlowModel.ipynb\" target=\"_parent\"><img src=\"https://colab.research.google.com/assets/colab-badge.svg\" alt=\"Open In Colab\"/></a>"
      ]
    },
    {
      "cell_type": "markdown",
      "metadata": {
        "id": "eWcAWTHEEbV9"
      },
      "source": [
        "# 1- Install the earth engine API, Google Cloud API and authenticate"
      ]
    },
    {
      "cell_type": "code",
      "execution_count": 1,
      "metadata": {
        "colab": {
          "base_uri": "https://localhost:8080/"
        },
        "id": "_4dNuOwZBFEn",
        "outputId": "9f7923d1-8745-4c8e-def0-49f9ff1c8983"
      },
      "outputs": [
        {
          "output_type": "stream",
          "name": "stdout",
          "text": [
            "Requirement already satisfied: earthengine-api in /usr/local/lib/python3.10/dist-packages (0.1.397)\n",
            "Requirement already satisfied: google-cloud-storage in /usr/local/lib/python3.10/dist-packages (from earthengine-api) (2.8.0)\n",
            "Requirement already satisfied: google-api-python-client>=1.12.1 in /usr/local/lib/python3.10/dist-packages (from earthengine-api) (2.84.0)\n",
            "Requirement already satisfied: google-auth>=1.4.1 in /usr/local/lib/python3.10/dist-packages (from earthengine-api) (2.27.0)\n",
            "Requirement already satisfied: google-auth-httplib2>=0.0.3 in /usr/local/lib/python3.10/dist-packages (from earthengine-api) (0.1.1)\n",
            "Requirement already satisfied: httplib2<1dev,>=0.9.2 in /usr/local/lib/python3.10/dist-packages (from earthengine-api) (0.22.0)\n",
            "Requirement already satisfied: requests in /usr/local/lib/python3.10/dist-packages (from earthengine-api) (2.31.0)\n",
            "Requirement already satisfied: google-api-core!=2.0.*,!=2.1.*,!=2.2.*,!=2.3.0,<3.0.0dev,>=1.31.5 in /usr/local/lib/python3.10/dist-packages (from google-api-python-client>=1.12.1->earthengine-api) (2.11.1)\n",
            "Requirement already satisfied: uritemplate<5,>=3.0.1 in /usr/local/lib/python3.10/dist-packages (from google-api-python-client>=1.12.1->earthengine-api) (4.1.1)\n",
            "Requirement already satisfied: cachetools<6.0,>=2.0.0 in /usr/local/lib/python3.10/dist-packages (from google-auth>=1.4.1->earthengine-api) (5.3.3)\n",
            "Requirement already satisfied: pyasn1-modules>=0.2.1 in /usr/local/lib/python3.10/dist-packages (from google-auth>=1.4.1->earthengine-api) (0.4.0)\n",
            "Requirement already satisfied: rsa<5,>=3.1.4 in /usr/local/lib/python3.10/dist-packages (from google-auth>=1.4.1->earthengine-api) (4.9)\n",
            "Requirement already satisfied: pyparsing!=3.0.0,!=3.0.1,!=3.0.2,!=3.0.3,<4,>=2.4.2 in /usr/local/lib/python3.10/dist-packages (from httplib2<1dev,>=0.9.2->earthengine-api) (3.1.2)\n",
            "Requirement already satisfied: google-cloud-core<3.0dev,>=2.3.0 in /usr/local/lib/python3.10/dist-packages (from google-cloud-storage->earthengine-api) (2.3.3)\n",
            "Requirement already satisfied: google-resumable-media>=2.3.2 in /usr/local/lib/python3.10/dist-packages (from google-cloud-storage->earthengine-api) (2.7.0)\n",
            "Requirement already satisfied: charset-normalizer<4,>=2 in /usr/local/lib/python3.10/dist-packages (from requests->earthengine-api) (3.3.2)\n",
            "Requirement already satisfied: idna<4,>=2.5 in /usr/local/lib/python3.10/dist-packages (from requests->earthengine-api) (3.6)\n",
            "Requirement already satisfied: urllib3<3,>=1.21.1 in /usr/local/lib/python3.10/dist-packages (from requests->earthengine-api) (2.0.7)\n",
            "Requirement already satisfied: certifi>=2017.4.17 in /usr/local/lib/python3.10/dist-packages (from requests->earthengine-api) (2024.2.2)\n",
            "Requirement already satisfied: googleapis-common-protos<2.0.dev0,>=1.56.2 in /usr/local/lib/python3.10/dist-packages (from google-api-core!=2.0.*,!=2.1.*,!=2.2.*,!=2.3.0,<3.0.0dev,>=1.31.5->google-api-python-client>=1.12.1->earthengine-api) (1.63.0)\n",
            "Requirement already satisfied: protobuf!=3.20.0,!=3.20.1,!=4.21.0,!=4.21.1,!=4.21.2,!=4.21.3,!=4.21.4,!=4.21.5,<5.0.0.dev0,>=3.19.5 in /usr/local/lib/python3.10/dist-packages (from google-api-core!=2.0.*,!=2.1.*,!=2.2.*,!=2.3.0,<3.0.0dev,>=1.31.5->google-api-python-client>=1.12.1->earthengine-api) (3.20.3)\n",
            "Requirement already satisfied: google-crc32c<2.0dev,>=1.0 in /usr/local/lib/python3.10/dist-packages (from google-resumable-media>=2.3.2->google-cloud-storage->earthengine-api) (1.5.0)\n",
            "Requirement already satisfied: pyasn1<0.7.0,>=0.4.6 in /usr/local/lib/python3.10/dist-packages (from pyasn1-modules>=0.2.1->google-auth>=1.4.1->earthengine-api) (0.6.0)\n"
          ]
        }
      ],
      "source": [
        "!pip install earthengine-api\n",
        "from google.colab import auth\n",
        "\n",
        "auth.authenticate_user()\n",
        "\n",
        "# Import the Earth Engine API and initialize it.\n",
        "import ee\n",
        "\n",
        "ee.Authenticate()\n",
        "ee.Initialize(project='ee-geoinformers')"
      ]
    },
    {
      "cell_type": "markdown",
      "metadata": {
        "id": "36rbK6IpFGGf"
      },
      "source": [
        "# 2-Import the tensorflow library and import the training and testing data"
      ]
    },
    {
      "cell_type": "code",
      "execution_count": 2,
      "metadata": {
        "colab": {
          "base_uri": "https://localhost:8080/"
        },
        "id": "3puC_1feFCxH",
        "outputId": "98a18d33-b563-4969-f0ea-500cfaf87fc7"
      },
      "outputs": [
        {
          "output_type": "stream",
          "name": "stdout",
          "text": [
            "2.15.0\n",
            "Found training file.\n",
            "tf.Tensor(b'\\n\\xb4\\x01\\n\\x0f\\n\\x03red\\x12\\x08\\x12\\x06\\n\\x041\\x08,=\\n\\x12\\n\\x06random\\x12\\x08\\x12\\x06\\n\\x04*G\\xcf>\\n\\x11\\n\\x05green\\x12\\x08\\x12\\x06\\n\\x04\\xc1\\xca\\xa1=\\n\\x10\\n\\x04blue\\x12\\x08\\x12\\x06\\n\\x04w\\xbe\\x1f=\\n\\x0f\\n\\x03nir\\x12\\x08\\x12\\x06\\n\\x04\\x95e\\xa8>\\n\\x10\\n\\x04ndvi\\x12\\x08\\x12\\x06\\n\\x04\\xa9\\x05F?\\n\\x11\\n\\x05class\\x12\\x08\\x12\\x06\\n\\x04\\x00\\x00\\x80?\\n\\x1f\\n\\x0csystem:index\\x12\\x0f\\n\\r\\n\\x0b1_1_1_1_0_0\\n\\x11\\n\\x05ratio\\x12\\x08\\x12\\x06\\n\\x04^\\xc3\\x02>', shape=(), dtype=string)\n"
          ]
        }
      ],
      "source": [
        "import tensorflow as tf\n",
        "\n",
        "#tf.enable_eager_execution()\n",
        "print(tf.__version__)\n",
        "\n",
        "trainFilePath = 'gs://treemapping_tofi/TreeMappingTest/Planet_training_points_UP1.tfrecord.gz'\n",
        "testFilePath = 'gs://treemapping_tofi/TreeMappingTest/Planet_testing_points_UP1.tfrecord.gz'\n",
        "\n",
        "print('Found training file.' if tf.io.gfile.exists(trainFilePath)\n",
        "    else 'No training file found.')\n",
        "\n",
        "# Create a dataset from the TFRecord file in Cloud Storage.\n",
        "trainDataset = tf.data.TFRecordDataset(trainFilePath, compression_type='GZIP')\n",
        "# Print the first record to check.\n",
        "print(iter(trainDataset).next())\n"
      ]
    },
    {
      "cell_type": "markdown",
      "metadata": {
        "id": "kKs1r1CxFiMo"
      },
      "source": [
        "# 3-Set the label and feature names"
      ]
    },
    {
      "cell_type": "code",
      "execution_count": 3,
      "metadata": {
        "colab": {
          "base_uri": "https://localhost:8080/"
        },
        "id": "OeX_yuXhFic1",
        "outputId": "26caf576-f93e-4cc1-f468-d7c1d20e6f6e"
      },
      "outputs": [
        {
          "output_type": "stream",
          "name": "stdout",
          "text": [
            "7\n",
            "{'blue': FixedLenFeature(shape=[1], dtype=tf.float32, default_value=None), 'class': FixedLenFeature(shape=[1], dtype=tf.float32, default_value=None), 'green': FixedLenFeature(shape=[1], dtype=tf.float32, default_value=None), 'ndvi': FixedLenFeature(shape=[1], dtype=tf.float32, default_value=None), 'nir': FixedLenFeature(shape=[1], dtype=tf.float32, default_value=None), 'ratio': FixedLenFeature(shape=[1], dtype=tf.float32, default_value=None), 'red': FixedLenFeature(shape=[1], dtype=tf.float32, default_value=None)}\n"
          ]
        }
      ],
      "source": [
        "label = \"class\"\n",
        "\n",
        "featureNames = list(['blue','green','red','nir',\"ndvi\",\"ratio\"])\n",
        "featureNames.append(label)\n",
        "\n",
        "l = len(featureNames)\n",
        "print(l)\n",
        "featureNames = sorted(featureNames)\n",
        "featureNames.append(label)\n",
        "\n",
        "# List of fixed-length features, all of which are float32.\n",
        "columns = [\n",
        "  tf.io.FixedLenFeature(shape=[1], dtype=tf.float32) for k in featureNames\n",
        "]\n",
        "\n",
        "# Dictionary with names as keys, features as values.\n",
        "featuresDict = dict(zip(featureNames, columns))\n",
        "\n",
        "print(featuresDict)"
      ]
    },
    {
      "cell_type": "markdown",
      "metadata": {
        "id": "xW2mPbjuF9-m"
      },
      "source": [
        "# Read a serialized example into the structure defined by featuresDict."
      ]
    },
    {
      "cell_type": "code",
      "execution_count": 4,
      "metadata": {
        "colab": {
          "base_uri": "https://localhost:8080/"
        },
        "id": "58tFgyLgF-_-",
        "outputId": "372703f7-ca61-4df4-e6a0-37d69656dc22"
      },
      "outputs": [
        {
          "output_type": "stream",
          "name": "stdout",
          "text": [
            "({'blue': <tf.Tensor: shape=(1,), dtype=float32, numpy=array([0.039], dtype=float32)>, 'green': <tf.Tensor: shape=(1,), dtype=float32, numpy=array([0.079], dtype=float32)>, 'ndvi': <tf.Tensor: shape=(1,), dtype=float32, numpy=array([0.77352387], dtype=float32)>, 'nir': <tf.Tensor: shape=(1,), dtype=float32, numpy=array([0.3289], dtype=float32)>, 'ratio': <tf.Tensor: shape=(1,), dtype=float32, numpy=array([0.12769839], dtype=float32)>, 'red': <tf.Tensor: shape=(1,), dtype=float32, numpy=array([0.042], dtype=float32)>}, <tf.Tensor: shape=(1,), dtype=int32, numpy=array([1], dtype=int32)>)\n"
          ]
        }
      ],
      "source": [
        "def parse_tfrecord(example_proto):\n",
        "  \"\"\"The parsing function.\n",
        "\n",
        "  Read a serialized example into the structure defined by featuresDict.\n",
        "\n",
        "  Args:\n",
        "    example_proto: a serialized Example.\n",
        "\n",
        "  Returns:\n",
        "    A tuple of the predictors dictionary and the label, cast to an `int32`.\n",
        "  \"\"\"\n",
        "  parsed_features = tf.io.parse_single_example(example_proto, featuresDict)\n",
        "  labels = parsed_features.pop(label)\n",
        "  return parsed_features, tf.cast(labels, tf.int32)\n",
        "\n",
        "# Map the function over the dataset.\n",
        "parsedDataset = trainDataset.map(parse_tfrecord, num_parallel_calls=5)\n",
        "\n",
        "# Print the first parsed record to check.\n",
        "print(iter(parsedDataset).next())"
      ]
    },
    {
      "cell_type": "markdown",
      "metadata": {
        "id": "GrsVbMF_GNyh"
      },
      "source": [
        "# Build the model"
      ]
    },
    {
      "cell_type": "code",
      "execution_count": 9,
      "metadata": {
        "colab": {
          "base_uri": "https://localhost:8080/",
          "height": 1000
        },
        "id": "UzV9xH3QGOFU",
        "outputId": "3a579125-5183-4567-ad80-e0a64bf38235"
      },
      "outputs": [
        {
          "output_type": "stream",
          "name": "stdout",
          "text": [
            "Epoch 1/25\n",
            "10/10 [==============================] - 6s 67ms/step - loss: 0.2301 - accuracy: 0.9023\n",
            "Epoch 2/25\n",
            "10/10 [==============================] - 1s 71ms/step - loss: 0.0000e+00 - accuracy: 1.0000\n",
            "Epoch 3/25\n",
            "10/10 [==============================] - 1s 71ms/step - loss: 0.0000e+00 - accuracy: 1.0000\n",
            "Epoch 4/25\n",
            "10/10 [==============================] - 1s 70ms/step - loss: 0.0000e+00 - accuracy: 1.0000\n",
            "Epoch 5/25\n",
            "10/10 [==============================] - 1s 72ms/step - loss: 0.0000e+00 - accuracy: 1.0000\n",
            "Epoch 6/25\n",
            "10/10 [==============================] - 1s 72ms/step - loss: 6.4084 - accuracy: 0.6350\n",
            "Epoch 7/25\n",
            "10/10 [==============================] - 1s 70ms/step - loss: 1.1347 - accuracy: 0.4627\n",
            "Epoch 8/25\n",
            "10/10 [==============================] - 1s 70ms/step - loss: 0.4731 - accuracy: 0.8493\n",
            "Epoch 9/25\n",
            "10/10 [==============================] - 1s 70ms/step - loss: 0.1632 - accuracy: 0.9587\n",
            "Epoch 10/25\n",
            "10/10 [==============================] - 1s 66ms/step - loss: 0.0678 - accuracy: 0.9877\n",
            "Epoch 11/25\n",
            "10/10 [==============================] - 1s 69ms/step - loss: 0.0291 - accuracy: 0.9957\n",
            "Epoch 12/25\n",
            "10/10 [==============================] - 1s 68ms/step - loss: 1.6216 - accuracy: 0.8260\n",
            "Epoch 13/25\n",
            "10/10 [==============================] - 1s 70ms/step - loss: 0.9543 - accuracy: 0.6993\n",
            "Epoch 14/25\n",
            "10/10 [==============================] - 1s 68ms/step - loss: 0.2053 - accuracy: 0.9620\n",
            "Epoch 15/25\n",
            "10/10 [==============================] - 1s 96ms/step - loss: 0.0598 - accuracy: 0.9743\n",
            "Epoch 16/25\n",
            "10/10 [==============================] - 1s 101ms/step - loss: 0.0176 - accuracy: 0.9907\n",
            "Epoch 17/25\n",
            "10/10 [==============================] - 1s 101ms/step - loss: 0.0042 - accuracy: 0.9993\n",
            "Epoch 18/25\n",
            "10/10 [==============================] - 1s 72ms/step - loss: 0.0036 - accuracy: 0.9987\n",
            "Epoch 19/25\n",
            "10/10 [==============================] - 1s 68ms/step - loss: 0.0027 - accuracy: 0.9987\n",
            "Epoch 20/25\n",
            "10/10 [==============================] - 1s 68ms/step - loss: 8.1932e-04 - accuracy: 0.9997\n",
            "Epoch 21/25\n",
            "10/10 [==============================] - 1s 68ms/step - loss: 6.6745e-04 - accuracy: 0.9997\n",
            "Epoch 22/25\n",
            "10/10 [==============================] - 1s 67ms/step - loss: 5.3224e-04 - accuracy: 1.0000\n",
            "Epoch 23/25\n",
            "10/10 [==============================] - 1s 69ms/step - loss: 0.0012 - accuracy: 0.9993\n",
            "Epoch 24/25\n",
            "10/10 [==============================] - 1s 68ms/step - loss: 6.5715e-04 - accuracy: 0.9997\n",
            "Epoch 25/25\n",
            "10/10 [==============================] - 1s 68ms/step - loss: 3.8576e-04 - accuracy: 1.0000\n"
          ]
        },
        {
          "output_type": "display_data",
          "data": {
            "text/plain": [
              "<Figure size 640x480 with 1 Axes>"
            ],
            "image/png": "[encoded data removed]"
          },
          "metadata": {}
        }
      ],
      "source": [
        "# Commented out IPython magic to ensure Python compatibility.\n",
        "from tensorflow import keras\n",
        "import matplotlib.pyplot as plt\n",
        "\n",
        "# How many classes there are in the model.\n",
        "nClasses = 5\n",
        "\n",
        "# Add features .\n",
        "inputDataset = parsedDataset #.map(addFeatures)\n",
        "\n",
        "# Keras requires inputs as a tuple. Note that the inputs must be in the\n",
        "# right shape. Also note that to use the categorical_crossentropy loss,\n",
        "# the label needs to be turned into a one-hot vector.\n",
        "\n",
        "def toTuple(data_dict, label):\n",
        "  #return tf.transpose(list(dict.values())), tf.one_hot(indices=label, depth=nClasses)\n",
        "    return (tf.expand_dims(tf.transpose(list(data_dict.values())), 1),\n",
        "            tf.expand_dims(tf.one_hot(indices=label, depth=nClasses), 1))\n",
        "\n",
        "\n",
        "# Repeat the input dataset as many times as necessary in batches.\n",
        "inputDataset = inputDataset.map(toTuple).shuffle(3000).batch(300).repeat()\n",
        "\n",
        "# Define the layers in the model.\n",
        "model = tf.keras.models.Sequential([\n",
        "tf.keras.layers.Input((None, None, l-1,)),\n",
        "tf.keras.layers.Conv2D(512, (1, 1), activation=tf.nn.relu),\n",
        "tf.keras.layers.Dropout(0.15),\n",
        "tf.keras.layers.Conv2D(256, (1, 1), activation=tf.nn.relu),\n",
        "tf.keras.layers.Dropout(0.15),\n",
        "tf.keras.layers.Conv2D(nClasses, (1, 1), activation=tf.nn.softmax)\n",
        "])\n",
        "\n",
        "# Compile the model with the specified loss function.\n",
        "# Compile the model with the specified loss function.\n",
        "model.compile(optimizer=tf.keras.optimizers.Adam(learning_rate=0.01),\n",
        "              loss='categorical_crossentropy',\n",
        "              metrics=['accuracy'])\n",
        "\n",
        "\n",
        "# Fit the model to the training data.\n",
        "# Don't forget to specify `steps_per_epoch` when calling `fit` on a dataset.\n",
        "training = model.fit(x=inputDataset, epochs=25,steps_per_epoch=10)\n",
        "\n",
        "# Plot the training history\n",
        "plt.plot(training.history['loss'], 'x--', label='Loss')\n",
        "plt.plot(training.history['accuracy'], 'o--', label='Accuracy')\n",
        "plt.xlabel('Epoch')\n",
        "plt.ylabel('Value')\n",
        "plt.title('Training History')\n",
        "plt.legend()\n",
        "plt.show()"
      ]
    },
    {
      "cell_type": "markdown",
      "metadata": {
        "id": "baz7l_mQ3Rza"
      },
      "source": [
        "# **Identify the best learning rate**"
      ]
    },
    {
      "cell_type": "code",
      "execution_count": null,
      "metadata": {
        "colab": {
          "background_save": true
        },
        "id": "LAhAw3FT2a_q",
        "outputId": "acf6de4c-08c6-42ad-a871-eddcbe0758ba"
      },
      "outputs": [
        {
          "data": {
            "image/png": "[encoded data removed]",
            "text/plain": [
              "<Figure size 640x480 with 1 Axes>"
            ]
          },
          "metadata": {},
          "output_type": "display_data"
        }
      ],
      "source": [
        "from tensorflow import keras\n",
        "import matplotlib.pyplot as plt\n",
        "import numpy as np\n",
        "\n",
        "# Define a function to build and compile the model\n",
        "def build_model(learning_rate):\n",
        "    model = keras.models.Sequential([\n",
        "        keras.layers.Input((None, None, l-1,)),\n",
        "        keras.layers.Conv2D(512, (1, 1), activation=tf.nn.relu),\n",
        "        keras.layers.Dropout(0.15),\n",
        "        keras.layers.Conv2D(256, (1, 1), activation=tf.nn.relu),\n",
        "        keras.layers.Dropout(0.15),\n",
        "        keras.layers.Conv2D(nClasses, (1, 1), activation=tf.nn.softmax)\n",
        "    ])\n",
        "\n",
        "    optimizer = keras.optimizers.Adam(learning_rate=learning_rate)\n",
        "    model.compile(optimizer=optimizer, loss='categorical_crossentropy', metrics=['accuracy'])\n",
        "    return model\n",
        "\n",
        "# Define a function to perform the learning rate range test\n",
        "def learning_rate_range_test(input_dataset, initial_lr, final_lr, epochs, steps_per_epoch):\n",
        "    # Define the range of learning rates to test\n",
        "    learning_rates = np.logspace(np.log10(initial_lr), np.log10(final_lr), num=epochs*steps_per_epoch)\n",
        "\n",
        "    # Initialize lists to store learning rates and corresponding losses\n",
        "    lr_values = []\n",
        "    losses = []\n",
        "\n",
        "    # Iterate over the learning rates\n",
        "    for lr in learning_rates:\n",
        "        # Build and compile the model with the current learning rate\n",
        "        model = build_model(lr)\n",
        "\n",
        "        # Fit the model to a subset of the dataset for one epoch\n",
        "        history = model.fit(x=input_dataset, epochs=1, steps_per_epoch=steps_per_epoch, verbose=0)\n",
        "\n",
        "        # Record the learning rate and the loss\n",
        "        lr_values.append(lr)\n",
        "        losses.append(history.history['loss'][0])\n",
        "\n",
        "    # Plot the learning rate vs. loss\n",
        "    plt.plot(lr_values, losses)\n",
        "    plt.xscale('log')\n",
        "    plt.xlabel('Learning Rate')\n",
        "    plt.ylabel('Loss')\n",
        "    plt.title('Learning Rate Range Test')\n",
        "    plt.show()\n",
        "\n",
        "# Define the parameters for the learning rate range test\n",
        "initial_lr = 1e-5  # Initial learning rate\n",
        "final_lr = 1e-1    # Final learning rate\n",
        "epochs = 50        # Number of epochs to simulate\n",
        "steps_per_epoch = 10  # Number of steps per epoch\n",
        "\n",
        "# Perform the learning rate range test\n",
        "learning_rate_range_test(inputDataset, initial_lr, final_lr, epochs, steps_per_epoch)\n"
      ]
    },
    {
      "cell_type": "markdown",
      "metadata": {
        "id": "kQqo38DeI403"
      },
      "source": [
        "# Do the data validation using the test data"
      ]
    },
    {
      "cell_type": "code",
      "execution_count": 10,
      "metadata": {
        "colab": {
          "base_uri": "https://localhost:8080/"
        },
        "id": "2taRrOn6I7Ry",
        "outputId": "c02a3f33-d132-4490-97cf-1faf51f1afb8"
      },
      "outputs": [
        {
          "output_type": "stream",
          "name": "stdout",
          "text": [
            "21519/21519 [==============================] - 39s 2ms/step - loss: 2.1925 - accuracy: 0.8154\n"
          ]
        },
        {
          "output_type": "execute_result",
          "data": {
            "text/plain": [
              "[2.19245982170105, 0.8154189586639404]"
            ]
          },
          "metadata": {},
          "execution_count": 10
        }
      ],
      "source": [
        "testDataset = (\n",
        "  tf.data.TFRecordDataset(testFilePath, compression_type='GZIP')\n",
        "    .map(parse_tfrecord, num_parallel_calls=5)\n",
        "    .map(toTuple)\n",
        "    .batch(1)\n",
        ")\n",
        "\n",
        "model.evaluate(testDataset)"
      ]
    },
    {
      "cell_type": "markdown",
      "metadata": {
        "id": "ENi1OQZ6JCDm"
      },
      "source": [
        "# Save your model in your cloud bucket"
      ]
    },
    {
      "cell_type": "code",
      "execution_count": 11,
      "metadata": {
        "id": "iRHxuq3IJHNQ"
      },
      "outputs": [],
      "source": [
        "outputBucket = \"treemapping_tofi/TreeMappingTest\"\n",
        "MODEL_DIR = 'gs://' + outputBucket + '/model_up1'\n",
        "\n",
        "# Save the Keras model\n",
        "tf.keras.models.save_model(model, MODEL_DIR)\n"
      ]
    },
    {
      "cell_type": "markdown",
      "metadata": {
        "id": "dFh0-34MJjG3"
      },
      "source": [
        "# Make your model readable for the earthEngine"
      ]
    },
    {
      "cell_type": "code",
      "execution_count": 12,
      "metadata": {
        "colab": {
          "base_uri": "https://localhost:8080/"
        },
        "id": "grSNIkxmha1b",
        "outputId": "de0d8a9b-c1e7-4d76-85b5-8ceb6be26725"
      },
      "outputs": [
        {
          "output_type": "stream",
          "name": "stdout",
          "text": [
            "'{\"serving_default_input_4:0\": \"array\"}'\n",
            "'{\"StatefulPartitionedCall:0\": \"class\"}'\n",
            "Successfully saved project id\n",
            "Warning: TensorFlow Addons not found. Models that use non-standard ops may not work.\n",
            "W0414 02:44:05.506265 137853890203648 _default.py:683] No project ID could be determined. Consider running `gcloud config set project` or setting the GOOGLE_CLOUD_PROJECT environment variable\n",
            "Success: model at 'gs://treemapping_tofi/TreeMappingTest/eeified_up1' is ready to be hosted in AI Platform.\n"
          ]
        }
      ],
      "source": [
        "from tensorflow.python.tools import saved_model_utils\n",
        "\n",
        "meta_graph_def = saved_model_utils.get_meta_graph_def(MODEL_DIR, 'serve')\n",
        "inputs = meta_graph_def.signature_def['serving_default'].inputs\n",
        "outputs = meta_graph_def.signature_def['serving_default'].outputs\n",
        "\n",
        "# Just get the first thing(s) from the serving signature def.  i.e. this\n",
        "# model only has a single input and a single output.\n",
        "input_name = None\n",
        "for k,v in inputs.items():\n",
        "  input_name = v.name\n",
        "  break\n",
        "\n",
        "output_name = None\n",
        "for k,v in outputs.items():\n",
        "  output_name = v.name\n",
        "  break\n",
        "\n",
        "# Make a dictionary that maps Earth Engine outputs and inputs to\n",
        "# AI Platform inputs and outputs, respectively.\n",
        "import json\n",
        "input_dict = \"'\" + json.dumps({input_name: \"array\"}) + \"'\"\n",
        "output_dict = \"'\" + json.dumps({output_name: label}) + \"'\"\n",
        "\n",
        "print(input_dict)\n",
        "print(output_dict)\n",
        "\n",
        "# Put the EEified model next to the trained model directory.\n",
        "EEIFIED_DIR = 'gs://' + outputBucket + '/eeified_up1'\n",
        "PROJECT = 'tofi-imageupload'\n",
        "\n",
        "#print(EEIFIED_DIR)\n",
        "# You need to set the project before using the model prepare command.\n",
        "!earthengine set_project {PROJECT}\n",
        "!earthengine model prepare --source_dir {MODEL_DIR} --dest_dir {EEIFIED_DIR} --input {input_dict} --output {output_dict}"
      ]
    },
    {
      "cell_type": "code",
      "execution_count": 17,
      "metadata": {
        "colab": {
          "base_uri": "https://localhost:8080/"
        },
        "id": "sf9mFZQTxIX6",
        "outputId": "4b8f463e-1b0d-44fa-be6c-401e168a7a4c"
      },
      "outputs": [
        {
          "output_type": "stream",
          "name": "stdout",
          "text": [
            "\u001b[1;33mWARNING:\u001b[0m To specify a region where the model will deployed on the global endpoint, please use `--regions` and do not specify `--region`. Using [us-central1] by default on https://ml.googleapis.com. Please note that your model will be inaccessible from https://us-central1-ml.googelapis.com\n",
            "\n",
            "Learn more about regional endpoints and see a list of available regions: https://cloud.google.com/ai-platform/prediction/docs/regional-endpoints\n",
            "Using endpoint [https://ml.googleapis.com/]\n",
            "Created ai platform model [projects/tofi-imageupload/models/TOF_classifier_model_UP1].\n"
          ]
        }
      ],
      "source": [
        "#Create Model in the cloud project; need to replace modelname: image_classifier_model and project: tofi-imageupload\n",
        "#!gcloud ai-platform models create {image_classifier_model} --project {YOUR_PROJECT_ID}\n",
        "!gcloud ai-platform models create TOF_classifier_model_UP1 --project tofi-imageupload"
      ]
    },
    {
      "cell_type": "markdown",
      "metadata": {
        "id": "Bzeo0JluLXUw"
      },
      "source": [
        "# Push your model to the AI platform"
      ]
    },
    {
      "cell_type": "code",
      "execution_count": 18,
      "metadata": {
        "colab": {
          "base_uri": "https://localhost:8080/"
        },
        "id": "RY1gH6CsLZkZ",
        "outputId": "2c20d216-5384-4d25-9ad2-2a0723d8a55e"
      },
      "outputs": [
        {
          "output_type": "stream",
          "name": "stdout",
          "text": [
            "Creating version: v_UP1\n",
            "Updated property [ai_platform/region].\n",
            "Using endpoint [https://ml.googleapis.com/]\n"
          ]
        }
      ],
      "source": [
        "import time\n",
        "MODEL_NAME = 'TOF_classifier_model_UP1'\n",
        "VERSION_NAME = 'v_UP1' #'v' + str(int(time.time()))\n",
        "print('Creating version: ' + VERSION_NAME)\n",
        "\n",
        "!gcloud config set ai_platform/region global #comment this code to define new region\n",
        "#!gcloud ai-platform models create image_classifier_model --project tofi-imageupload\n",
        "!gcloud ai-platform versions create {VERSION_NAME} \\\n",
        "  --project {PROJECT} \\\n",
        "  --model {MODEL_NAME} \\\n",
        "  --origin {EEIFIED_DIR} \\\n",
        "  --runtime-version=2.11 \\\n",
        "  --framework \"TENSORFLOW\" \\\n",
        "  --python-version=3.7\n",
        "#version may throw error in years to come. #Check here if error comes \"https://cloud.google.com/ai-platform/prediction/docs/runtime-version-list\""
      ]
    }
  ],
  "metadata": {
    "colab": {
      "provenance": [],
      "include_colab_link": true
    },
    "kernelspec": {
      "display_name": "Python 3",
      "name": "python3"
    }
  },
  "nbformat": 4,
  "nbformat_minor": 0
}