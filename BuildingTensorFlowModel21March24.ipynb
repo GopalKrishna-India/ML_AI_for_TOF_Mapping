{
  "nbformat": 4,
  "nbformat_minor": 0,
  "metadata": {
    "colab": {
      "provenance": [],
      "include_colab_link": true
    },
    "kernelspec": {
      "name": "python3",
      "display_name": "Python 3"
    }
  },
  "cells": [
    {
      "cell_type": "markdown",
      "metadata": {
        "id": "view-in-github",
        "colab_type": "text"
      },
      "source": [
        "<a href=\"https://colab.research.google.com/github/GopalKrishna-India/ML_AI_for_TOF_Mapping/blob/main/BuildingTensorFlowModel21March24.ipynb\" target=\"_parent\"><img src=\"https://colab.research.google.com/assets/colab-badge.svg\" alt=\"Open In Colab\"/></a>"
      ]
    },
    {
      "cell_type": "markdown",
      "metadata": {
        "id": "eWcAWTHEEbV9"
      },
      "source": [
        "# Install the earth engine API, Google Cloud API and authenticate"
      ]
    },
    {
      "cell_type": "code",
      "metadata": {
        "id": "_4dNuOwZBFEn",
        "colab": {
          "base_uri": "https://localhost:8080/"
        },
        "outputId": "cdfb84f0-017b-4d54-e050-2d4c0e100757"
      },
      "source": [
        "!pip install earthengine-api\n",
        "from google.colab import auth\n",
        "\n",
        "auth.authenticate_user()\n",
        "\n",
        "# Import the Earth Engine API and initialize it.\n",
        "import ee\n",
        "\n",
        "ee.Authenticate()\n",
        "ee.Initialize(project='ee-geoinformers')"
      ],
      "execution_count": 1,
      "outputs": [
        {
          "output_type": "stream",
          "name": "stdout",
          "text": [
            "Requirement already satisfied: earthengine-api in /usr/local/lib/python3.10/dist-packages (0.1.394)\n",
            "Requirement already satisfied: google-cloud-storage in /usr/local/lib/python3.10/dist-packages (from earthengine-api) (2.8.0)\n",
            "Requirement already satisfied: google-api-python-client>=1.12.1 in /usr/local/lib/python3.10/dist-packages (from earthengine-api) (2.84.0)\n",
            "Requirement already satisfied: google-auth>=1.4.1 in /usr/local/lib/python3.10/dist-packages (from earthengine-api) (2.27.0)\n",
            "Requirement already satisfied: google-auth-httplib2>=0.0.3 in /usr/local/lib/python3.10/dist-packages (from earthengine-api) (0.1.1)\n",
            "Requirement already satisfied: httplib2<1dev,>=0.9.2 in /usr/local/lib/python3.10/dist-packages (from earthengine-api) (0.22.0)\n",
            "Requirement already satisfied: requests in /usr/local/lib/python3.10/dist-packages (from earthengine-api) (2.31.0)\n",
            "Requirement already satisfied: google-api-core!=2.0.*,!=2.1.*,!=2.2.*,!=2.3.0,<3.0.0dev,>=1.31.5 in /usr/local/lib/python3.10/dist-packages (from google-api-python-client>=1.12.1->earthengine-api) (2.11.1)\n",
            "Requirement already satisfied: uritemplate<5,>=3.0.1 in /usr/local/lib/python3.10/dist-packages (from google-api-python-client>=1.12.1->earthengine-api) (4.1.1)\n",
            "Requirement already satisfied: cachetools<6.0,>=2.0.0 in /usr/local/lib/python3.10/dist-packages (from google-auth>=1.4.1->earthengine-api) (5.3.3)\n",
            "Requirement already satisfied: pyasn1-modules>=0.2.1 in /usr/local/lib/python3.10/dist-packages (from google-auth>=1.4.1->earthengine-api) (0.3.0)\n",
            "Requirement already satisfied: rsa<5,>=3.1.4 in /usr/local/lib/python3.10/dist-packages (from google-auth>=1.4.1->earthengine-api) (4.9)\n",
            "Requirement already satisfied: pyparsing!=3.0.0,!=3.0.1,!=3.0.2,!=3.0.3,<4,>=2.4.2 in /usr/local/lib/python3.10/dist-packages (from httplib2<1dev,>=0.9.2->earthengine-api) (3.1.2)\n",
            "Requirement already satisfied: google-cloud-core<3.0dev,>=2.3.0 in /usr/local/lib/python3.10/dist-packages (from google-cloud-storage->earthengine-api) (2.3.3)\n",
            "Requirement already satisfied: google-resumable-media>=2.3.2 in /usr/local/lib/python3.10/dist-packages (from google-cloud-storage->earthengine-api) (2.7.0)\n",
            "Requirement already satisfied: charset-normalizer<4,>=2 in /usr/local/lib/python3.10/dist-packages (from requests->earthengine-api) (3.3.2)\n",
            "Requirement already satisfied: idna<4,>=2.5 in /usr/local/lib/python3.10/dist-packages (from requests->earthengine-api) (3.6)\n",
            "Requirement already satisfied: urllib3<3,>=1.21.1 in /usr/local/lib/python3.10/dist-packages (from requests->earthengine-api) (2.0.7)\n",
            "Requirement already satisfied: certifi>=2017.4.17 in /usr/local/lib/python3.10/dist-packages (from requests->earthengine-api) (2024.2.2)\n",
            "Requirement already satisfied: googleapis-common-protos<2.0.dev0,>=1.56.2 in /usr/local/lib/python3.10/dist-packages (from google-api-core!=2.0.*,!=2.1.*,!=2.2.*,!=2.3.0,<3.0.0dev,>=1.31.5->google-api-python-client>=1.12.1->earthengine-api) (1.63.0)\n",
            "Requirement already satisfied: protobuf!=3.20.0,!=3.20.1,!=4.21.0,!=4.21.1,!=4.21.2,!=4.21.3,!=4.21.4,!=4.21.5,<5.0.0.dev0,>=3.19.5 in /usr/local/lib/python3.10/dist-packages (from google-api-core!=2.0.*,!=2.1.*,!=2.2.*,!=2.3.0,<3.0.0dev,>=1.31.5->google-api-python-client>=1.12.1->earthengine-api) (3.20.3)\n",
            "Requirement already satisfied: google-crc32c<2.0dev,>=1.0 in /usr/local/lib/python3.10/dist-packages (from google-resumable-media>=2.3.2->google-cloud-storage->earthengine-api) (1.5.0)\n",
            "Requirement already satisfied: pyasn1<0.6.0,>=0.4.6 in /usr/local/lib/python3.10/dist-packages (from pyasn1-modules>=0.2.1->google-auth>=1.4.1->earthengine-api) (0.5.1)\n"
          ]
        }
      ]
    },
    {
      "cell_type": "markdown",
      "metadata": {
        "id": "36rbK6IpFGGf"
      },
      "source": [
        "# Import the tensorflow library and import the training and testing data"
      ]
    },
    {
      "cell_type": "code",
      "metadata": {
        "id": "3puC_1feFCxH",
        "outputId": "8a6850f2-bc35-4360-df22-f220c800bf27",
        "colab": {
          "base_uri": "https://localhost:8080/"
        }
      },
      "source": [
        "import tensorflow as tf\n",
        "\n",
        "#tf.enable_eager_execution()\n",
        "print(tf.__version__)\n",
        "\n",
        "trainFilePath = 'gs://treemapping_tofi/TreeMappingTest/Planet_training_points.tfrecord.gz'\n",
        "testFilePath = 'gs://treemapping_tofi/TreeMappingTest/Planet_testing_points.tfrecord.gz'\n",
        "\n",
        "print('Found training file.' if tf.io.gfile.exists(trainFilePath)\n",
        "    else 'No training file found.')\n",
        "\n",
        "# Create a dataset from the TFRecord file in Cloud Storage.\n",
        "trainDataset = tf.data.TFRecordDataset(trainFilePath, compression_type='GZIP')\n",
        "# Print the first record to check.\n",
        "print(iter(trainDataset).next())\n"
      ],
      "execution_count": 7,
      "outputs": [
        {
          "output_type": "stream",
          "name": "stdout",
          "text": [
            "2.15.0\n",
            "Found training file.\n",
            "tf.Tensor(b'\\n\\xa1\\x01\\n\\x0f\\n\\x03red\\x12\\x08\\x12\\x06\\n\\x04\\xcc]\\xcb=\\n\\x12\\n\\x06random\\x12\\x08\\x12\\x06\\n\\x04\\xe8\\x8c\\x15?\\n\\x11\\n\\x05green\\x12\\x08\\x12\\x06\\n\\x04\\x16\\xfb\\xcb=\\n\\x10\\n\\x04blue\\x12\\x08\\x12\\x06\\n\\x04\\x89\\xd2^=\\n\\x0f\\n\\x03nir\\x12\\x08\\x12\\x06\\n\\x04\\x19\\x04\\x96>\\n\\x10\\n\\x04ndvi\\x12\\x08\\x12\\x06\\n\\x04m\\xcd\\xfc>\\n\\x11\\n\\x05class\\x12\\x08\\x12\\x06\\n\\x04\\x00\\x00\\x80?\\n\\x1f\\n\\x0csystem:index\\x12\\x0f\\n\\r\\n\\x0b1_1_1_1_0_0', shape=(), dtype=string)\n"
          ]
        }
      ]
    },
    {
      "cell_type": "markdown",
      "metadata": {
        "id": "kKs1r1CxFiMo"
      },
      "source": [
        "# Set the label and feature names"
      ]
    },
    {
      "cell_type": "code",
      "metadata": {
        "id": "OeX_yuXhFic1",
        "outputId": "8e7e491e-1114-4420-8040-e34f42989819",
        "colab": {
          "base_uri": "https://localhost:8080/"
        }
      },
      "source": [
        "label = \"class\"\n",
        "\n",
        "featureNames = list(['blue','green','red','nir',\"ndvi\"])\n",
        "featureNames.append(label)\n",
        "\n",
        "l = len(featureNames)\n",
        "print(l)\n",
        "featureNames = sorted(featureNames)\n",
        "featureNames.append(label)\n",
        "\n",
        "# List of fixed-length features, all of which are float32.\n",
        "columns = [\n",
        "  tf.io.FixedLenFeature(shape=[1], dtype=tf.float32) for k in featureNames\n",
        "]\n",
        "\n",
        "# Dictionary with names as keys, features as values.\n",
        "featuresDict = dict(zip(featureNames, columns))\n",
        "\n",
        "print(featuresDict)"
      ],
      "execution_count": 8,
      "outputs": [
        {
          "output_type": "stream",
          "name": "stdout",
          "text": [
            "6\n",
            "{'blue': FixedLenFeature(shape=[1], dtype=tf.float32, default_value=None), 'class': FixedLenFeature(shape=[1], dtype=tf.float32, default_value=None), 'green': FixedLenFeature(shape=[1], dtype=tf.float32, default_value=None), 'ndvi': FixedLenFeature(shape=[1], dtype=tf.float32, default_value=None), 'nir': FixedLenFeature(shape=[1], dtype=tf.float32, default_value=None), 'red': FixedLenFeature(shape=[1], dtype=tf.float32, default_value=None)}\n"
          ]
        }
      ]
    },
    {
      "cell_type": "markdown",
      "metadata": {
        "id": "xW2mPbjuF9-m"
      },
      "source": [
        "# Read a serialized example into the structure defined by featuresDict."
      ]
    },
    {
      "cell_type": "code",
      "metadata": {
        "id": "58tFgyLgF-_-",
        "colab": {
          "base_uri": "https://localhost:8080/"
        },
        "outputId": "0d645a39-7733-465a-f1f1-ff54b8013646"
      },
      "source": [
        "def parse_tfrecord(example_proto):\n",
        "  \"\"\"The parsing function.\n",
        "\n",
        "  Read a serialized example into the structure defined by featuresDict.\n",
        "\n",
        "  Args:\n",
        "    example_proto: a serialized Example.\n",
        "\n",
        "  Returns:\n",
        "    A tuple of the predictors dictionary and the label, cast to an `int32`.\n",
        "  \"\"\"\n",
        "  parsed_features = tf.io.parse_single_example(example_proto, featuresDict)\n",
        "  labels = parsed_features.pop(label)\n",
        "  return parsed_features, tf.cast(labels, tf.int32)\n",
        "\n",
        "# Map the function over the dataset.\n",
        "parsedDataset = trainDataset.map(parse_tfrecord, num_parallel_calls=5)\n",
        "\n",
        "# Print the first parsed record to check.\n",
        "print(iter(parsedDataset).next())"
      ],
      "execution_count": 9,
      "outputs": [
        {
          "output_type": "stream",
          "name": "stdout",
          "text": [
            "({'blue': <tf.Tensor: shape=(1,), dtype=float32, numpy=array([0.0544], dtype=float32)>, 'green': <tf.Tensor: shape=(1,), dtype=float32, numpy=array([0.0996], dtype=float32)>, 'ndvi': <tf.Tensor: shape=(1,), dtype=float32, numpy=array([0.49375477], dtype=float32)>, 'nir': <tf.Tensor: shape=(1,), dtype=float32, numpy=array([0.293], dtype=float32)>, 'red': <tf.Tensor: shape=(1,), dtype=float32, numpy=array([0.0993], dtype=float32)>}, <tf.Tensor: shape=(1,), dtype=int32, numpy=array([1], dtype=int32)>)\n"
          ]
        }
      ]
    },
    {
      "cell_type": "markdown",
      "metadata": {
        "id": "GrsVbMF_GNyh"
      },
      "source": [
        "# Build the model"
      ]
    },
    {
      "cell_type": "code",
      "metadata": {
        "id": "UzV9xH3QGOFU",
        "outputId": "cdfa9af8-032f-4f99-99cd-51bfd73cca75",
        "colab": {
          "base_uri": "https://localhost:8080/",
          "height": 1000
        }
      },
      "source": [
        "# Commented out IPython magic to ensure Python compatibility.\n",
        "from tensorflow import keras\n",
        "import matplotlib.pyplot as plt\n",
        "\n",
        "# How many classes there are in the model.\n",
        "nClasses = 5\n",
        "\n",
        "# Add features .\n",
        "inputDataset = parsedDataset #.map(addFeatures)\n",
        "\n",
        "# Keras requires inputs as a tuple. Note that the inputs must be in the\n",
        "# right shape. Also note that to use the categorical_crossentropy loss,\n",
        "# the label needs to be turned into a one-hot vector.\n",
        "\n",
        "def toTuple(data_dict, label):\n",
        "  #return tf.transpose(list(dict.values())), tf.one_hot(indices=label, depth=nClasses)\n",
        "    return (tf.expand_dims(tf.transpose(list(data_dict.values())), 1),\n",
        "            tf.expand_dims(tf.one_hot(indices=label, depth=nClasses), 1))\n",
        "\n",
        "\n",
        "# Repeat the input dataset as many times as necessary in batches.\n",
        "inputDataset = inputDataset.map(toTuple).shuffle(3000).batch(300).repeat()\n",
        "\n",
        "# Define the layers in the model.\n",
        "model = tf.keras.models.Sequential([\n",
        "tf.keras.layers.Input((None, None, l-1,)),\n",
        "tf.keras.layers.Conv2D(512, (1, 1), activation=tf.nn.relu),\n",
        "tf.keras.layers.Dropout(0.15),\n",
        "tf.keras.layers.Conv2D(256, (1, 1), activation=tf.nn.relu),\n",
        "tf.keras.layers.Dropout(0.15),\n",
        "tf.keras.layers.Conv2D(nClasses, (1, 1), activation=tf.nn.softmax)\n",
        "])\n",
        "\n",
        "# Compile the model with the specified loss function.\n",
        "# Compile the model with the specified loss function.\n",
        "model.compile(optimizer=tf.keras.optimizers.Adam(learning_rate=0.005),\n",
        "              loss='categorical_crossentropy',\n",
        "              metrics=['accuracy'])\n",
        "\n",
        "\n",
        "# Fit the model to the training data.\n",
        "# Don't forget to specify `steps_per_epoch` when calling `fit` on a dataset.\n",
        "training = model.fit(x=inputDataset, epochs=100,steps_per_epoch=10)\n",
        "\n",
        "# Plot the training history\n",
        "plt.plot(training.history['loss'], 'x--', label='Loss')\n",
        "plt.plot(training.history['accuracy'], 'o--', label='Accuracy')\n",
        "plt.xlabel('Epoch')\n",
        "plt.ylabel('Value')\n",
        "plt.title('Training History')\n",
        "plt.legend()\n",
        "plt.show()"
      ],
      "execution_count": 21,
      "outputs": [
        {
          "output_type": "stream",
          "name": "stdout",
          "text": [
            "Epoch 1/100\n",
            "10/10 [==============================] - 5s 59ms/step - loss: 0.9593 - accuracy: 0.6200\n",
            "Epoch 2/100\n",
            "10/10 [==============================] - 3s 363ms/step - loss: 0.5739 - accuracy: 0.7358\n",
            "Epoch 3/100\n",
            "10/10 [==============================] - 1s 59ms/step - loss: 0.3498 - accuracy: 0.7255\n",
            "Epoch 4/100\n",
            "10/10 [==============================] - 3s 60ms/step - loss: 0.2961 - accuracy: 0.8010\n",
            "Epoch 5/100\n",
            "10/10 [==============================] - 2s 174ms/step - loss: 0.3853 - accuracy: 0.7865\n",
            "Epoch 6/100\n",
            "10/10 [==============================] - 1s 58ms/step - loss: 0.6956 - accuracy: 0.6531\n",
            "Epoch 7/100\n",
            "10/10 [==============================] - 1s 60ms/step - loss: 2.0237 - accuracy: 0.6380\n",
            "Epoch 8/100\n",
            "10/10 [==============================] - 1s 117ms/step - loss: 4.2020 - accuracy: 0.5897\n",
            "Epoch 9/100\n",
            "10/10 [==============================] - 1s 58ms/step - loss: 5.3276 - accuracy: 0.5420\n",
            "Epoch 10/100\n",
            "10/10 [==============================] - 1s 62ms/step - loss: 9.3246 - accuracy: 0.5660\n",
            "Epoch 11/100\n",
            "10/10 [==============================] - 2s 255ms/step - loss: 13.6386 - accuracy: 0.5737\n",
            "Epoch 12/100\n",
            "10/10 [==============================] - 1s 75ms/step - loss: 18.7972 - accuracy: 0.5057\n",
            "Epoch 13/100\n",
            "10/10 [==============================] - 2s 63ms/step - loss: 23.2126 - accuracy: 0.5340\n",
            "Epoch 14/100\n",
            "10/10 [==============================] - 3s 288ms/step - loss: 28.9684 - accuracy: 0.5474\n",
            "Epoch 15/100\n",
            "10/10 [==============================] - 1s 57ms/step - loss: 36.5855 - accuracy: 0.5083\n",
            "Epoch 16/100\n",
            "10/10 [==============================] - 3s 62ms/step - loss: 54.4109 - accuracy: 0.5033\n",
            "Epoch 17/100\n",
            "10/10 [==============================] - 4s 384ms/step - loss: 68.0319 - accuracy: 0.5190\n",
            "Epoch 18/100\n",
            "10/10 [==============================] - 2s 223ms/step - loss: 53.2957 - accuracy: 0.5143\n",
            "Epoch 19/100\n",
            "10/10 [==============================] - 1s 67ms/step - loss: 79.0768 - accuracy: 0.5300\n",
            "Epoch 20/100\n",
            "10/10 [==============================] - 3s 274ms/step - loss: 107.9857 - accuracy: 0.4977\n",
            "Epoch 21/100\n",
            "10/10 [==============================] - 1s 60ms/step - loss: 98.8711 - accuracy: 0.4867\n",
            "Epoch 22/100\n",
            "10/10 [==============================] - 3s 63ms/step - loss: 124.5940 - accuracy: 0.5083\n",
            "Epoch 23/100\n",
            "10/10 [==============================] - 3s 313ms/step - loss: 130.6605 - accuracy: 0.5063\n",
            "Epoch 24/100\n",
            "10/10 [==============================] - 1s 57ms/step - loss: 145.8593 - accuracy: 0.4760\n",
            "Epoch 25/100\n",
            "10/10 [==============================] - 4s 63ms/step - loss: 226.4932 - accuracy: 0.4863\n",
            "Epoch 26/100\n",
            "10/10 [==============================] - 3s 284ms/step - loss: 221.3592 - accuracy: 0.5257\n",
            "Epoch 27/100\n",
            "10/10 [==============================] - 1s 58ms/step - loss: 187.8910 - accuracy: 0.4843\n",
            "Epoch 28/100\n",
            "10/10 [==============================] - 3s 62ms/step - loss: 229.9415 - accuracy: 0.5033\n",
            "Epoch 29/100\n",
            "10/10 [==============================] - 3s 286ms/step - loss: 242.6259 - accuracy: 0.5117\n",
            "Epoch 30/100\n",
            "10/10 [==============================] - 1s 76ms/step - loss: 253.8926 - accuracy: 0.4626\n",
            "Epoch 31/100\n",
            "10/10 [==============================] - 2s 63ms/step - loss: 264.3999 - accuracy: 0.5040\n",
            "Epoch 32/100\n",
            "10/10 [==============================] - 3s 296ms/step - loss: 323.9950 - accuracy: 0.5200\n",
            "Epoch 33/100\n",
            "10/10 [==============================] - 1s 59ms/step - loss: 266.2492 - accuracy: 0.4440\n",
            "Epoch 34/100\n",
            "10/10 [==============================] - 3s 61ms/step - loss: 369.8439 - accuracy: 0.5090\n",
            "Epoch 35/100\n",
            "10/10 [==============================] - 3s 340ms/step - loss: 439.1364 - accuracy: 0.4937\n",
            "Epoch 36/100\n",
            "10/10 [==============================] - 1s 80ms/step - loss: 354.5560 - accuracy: 0.4900\n",
            "Epoch 37/100\n",
            "10/10 [==============================] - 3s 63ms/step - loss: 484.4397 - accuracy: 0.4940\n",
            "Epoch 38/100\n",
            "10/10 [==============================] - 3s 320ms/step - loss: 475.9083 - accuracy: 0.5020\n",
            "Epoch 39/100\n",
            "10/10 [==============================] - 1s 59ms/step - loss: 518.8694 - accuracy: 0.4706\n",
            "Epoch 40/100\n",
            "10/10 [==============================] - 3s 59ms/step - loss: 497.6000 - accuracy: 0.5120\n",
            "Epoch 41/100\n",
            "10/10 [==============================] - 3s 320ms/step - loss: 514.6785 - accuracy: 0.4793\n",
            "Epoch 42/100\n",
            "10/10 [==============================] - 1s 80ms/step - loss: 633.4636 - accuracy: 0.4970\n",
            "Epoch 43/100\n",
            "10/10 [==============================] - 2s 62ms/step - loss: 538.8044 - accuracy: 0.4920\n",
            "Epoch 44/100\n",
            "10/10 [==============================] - 3s 290ms/step - loss: 642.2852 - accuracy: 0.4810\n",
            "Epoch 45/100\n",
            "10/10 [==============================] - 1s 59ms/step - loss: 692.2512 - accuracy: 0.4550\n",
            "Epoch 46/100\n",
            "10/10 [==============================] - 3s 66ms/step - loss: 914.1984 - accuracy: 0.5543\n",
            "Epoch 47/100\n",
            "10/10 [==============================] - 3s 289ms/step - loss: 1026.3793 - accuracy: 0.4983\n",
            "Epoch 48/100\n",
            "10/10 [==============================] - 1s 80ms/step - loss: 956.7782 - accuracy: 0.4366\n",
            "Epoch 49/100\n",
            "10/10 [==============================] - 2s 62ms/step - loss: 903.0135 - accuracy: 0.5187\n",
            "Epoch 50/100\n",
            "10/10 [==============================] - 3s 284ms/step - loss: 903.6953 - accuracy: 0.4897\n",
            "Epoch 51/100\n",
            "10/10 [==============================] - 1s 58ms/step - loss: 525.5755 - accuracy: 0.4803\n",
            "Epoch 52/100\n",
            "10/10 [==============================] - 3s 62ms/step - loss: 698.3484 - accuracy: 0.5060\n",
            "Epoch 53/100\n",
            "10/10 [==============================] - 3s 295ms/step - loss: 863.7488 - accuracy: 0.4880\n",
            "Epoch 54/100\n",
            "10/10 [==============================] - 1s 81ms/step - loss: 1447.2567 - accuracy: 0.4480\n",
            "Epoch 55/100\n",
            "10/10 [==============================] - 3s 64ms/step - loss: 1627.7172 - accuracy: 0.5320\n",
            "Epoch 56/100\n",
            "10/10 [==============================] - 3s 279ms/step - loss: 1335.7638 - accuracy: 0.4977\n",
            "Epoch 57/100\n",
            "10/10 [==============================] - 1s 58ms/step - loss: 885.5424 - accuracy: 0.4593\n",
            "Epoch 58/100\n",
            "10/10 [==============================] - 3s 62ms/step - loss: 921.8035 - accuracy: 0.4893\n",
            "Epoch 59/100\n",
            "10/10 [==============================] - 3s 286ms/step - loss: 909.8987 - accuracy: 0.4980\n",
            "Epoch 60/100\n",
            "10/10 [==============================] - 1s 77ms/step - loss: 1476.4418 - accuracy: 0.4710\n",
            "Epoch 61/100\n",
            "10/10 [==============================] - 1s 75ms/step - loss: 1733.7877 - accuracy: 0.5243\n",
            "Epoch 62/100\n",
            "10/10 [==============================] - 4s 386ms/step - loss: 1176.0164 - accuracy: 0.5147\n",
            "Epoch 63/100\n",
            "10/10 [==============================] - 1s 59ms/step - loss: 1184.9761 - accuracy: 0.4486\n",
            "Epoch 64/100\n",
            "10/10 [==============================] - 3s 63ms/step - loss: 1260.8070 - accuracy: 0.4817\n",
            "Epoch 65/100\n",
            "10/10 [==============================] - 2s 253ms/step - loss: 1761.3870 - accuracy: 0.4943\n",
            "Epoch 66/100\n",
            "10/10 [==============================] - 1s 56ms/step - loss: 978.2249 - accuracy: 0.4550\n",
            "Epoch 67/100\n",
            "10/10 [==============================] - 2s 85ms/step - loss: 1257.7362 - accuracy: 0.5247\n",
            "Epoch 68/100\n",
            "10/10 [==============================] - 2s 261ms/step - loss: 1503.0009 - accuracy: 0.5260\n",
            "Epoch 69/100\n",
            "10/10 [==============================] - 1s 59ms/step - loss: 2211.1448 - accuracy: 0.4183\n",
            "Epoch 70/100\n",
            "10/10 [==============================] - 1s 60ms/step - loss: 2473.7136 - accuracy: 0.5027\n",
            "Epoch 71/100\n",
            "10/10 [==============================] - 3s 281ms/step - loss: 1951.9933 - accuracy: 0.4883\n",
            "Epoch 72/100\n",
            "10/10 [==============================] - 1s 58ms/step - loss: 2254.1802 - accuracy: 0.4977\n",
            "Epoch 73/100\n",
            "10/10 [==============================] - 2s 63ms/step - loss: 1820.5927 - accuracy: 0.4590\n",
            "Epoch 74/100\n",
            "10/10 [==============================] - 3s 313ms/step - loss: 2875.8982 - accuracy: 0.5017\n",
            "Epoch 75/100\n",
            "10/10 [==============================] - 1s 79ms/step - loss: 2869.2979 - accuracy: 0.4716\n",
            "Epoch 76/100\n",
            "10/10 [==============================] - 4s 62ms/step - loss: 3270.1687 - accuracy: 0.5467\n",
            "Epoch 77/100\n",
            "10/10 [==============================] - 3s 293ms/step - loss: 1550.3870 - accuracy: 0.4563\n",
            "Epoch 78/100\n",
            "10/10 [==============================] - 1s 58ms/step - loss: 1502.3132 - accuracy: 0.4883\n",
            "Epoch 79/100\n",
            "10/10 [==============================] - 3s 64ms/step - loss: 1697.3864 - accuracy: 0.4777\n",
            "Epoch 80/100\n",
            "10/10 [==============================] - 3s 293ms/step - loss: 2266.2285 - accuracy: 0.4803\n",
            "Epoch 81/100\n",
            "10/10 [==============================] - 1s 60ms/step - loss: 2754.4456 - accuracy: 0.4783\n",
            "Epoch 82/100\n",
            "10/10 [==============================] - 3s 59ms/step - loss: 2229.0015 - accuracy: 0.5273\n",
            "Epoch 83/100\n",
            "10/10 [==============================] - 3s 291ms/step - loss: 3275.1914 - accuracy: 0.4850\n",
            "Epoch 84/100\n",
            "10/10 [==============================] - 1s 59ms/step - loss: 2393.0017 - accuracy: 0.4426\n",
            "Epoch 85/100\n",
            "10/10 [==============================] - 3s 58ms/step - loss: 2498.7561 - accuracy: 0.4540\n",
            "Epoch 86/100\n",
            "10/10 [==============================] - 4s 471ms/step - loss: 4573.8330 - accuracy: 0.5270\n",
            "Epoch 87/100\n",
            "10/10 [==============================] - 1s 61ms/step - loss: 3766.8960 - accuracy: 0.5337\n",
            "Epoch 88/100\n",
            "10/10 [==============================] - 3s 60ms/step - loss: 3826.3779 - accuracy: 0.3977\n",
            "Epoch 89/100\n",
            "10/10 [==============================] - 4s 422ms/step - loss: 3929.2241 - accuracy: 0.5140\n",
            "Epoch 90/100\n",
            "10/10 [==============================] - 1s 59ms/step - loss: 3419.4060 - accuracy: 0.4943\n",
            "Epoch 91/100\n",
            "10/10 [==============================] - 2s 60ms/step - loss: 1986.6945 - accuracy: 0.5087\n",
            "Epoch 92/100\n",
            "10/10 [==============================] - 3s 334ms/step - loss: 2537.3123 - accuracy: 0.4787\n",
            "Epoch 93/100\n",
            "10/10 [==============================] - 1s 60ms/step - loss: 3210.4609 - accuracy: 0.4937\n",
            "Epoch 94/100\n",
            "10/10 [==============================] - 2s 63ms/step - loss: 3921.6179 - accuracy: 0.5103\n",
            "Epoch 95/100\n",
            "10/10 [==============================] - 3s 292ms/step - loss: 3449.2905 - accuracy: 0.4873\n",
            "Epoch 96/100\n",
            "10/10 [==============================] - 1s 58ms/step - loss: 2705.6655 - accuracy: 0.4757\n",
            "Epoch 97/100\n",
            "10/10 [==============================] - 3s 63ms/step - loss: 2364.8899 - accuracy: 0.4927\n",
            "Epoch 98/100\n",
            "10/10 [==============================] - 3s 283ms/step - loss: 3988.4497 - accuracy: 0.5360\n",
            "Epoch 99/100\n",
            "10/10 [==============================] - 1s 60ms/step - loss: 5264.9146 - accuracy: 0.4510\n",
            "Epoch 100/100\n",
            "10/10 [==============================] - 4s 82ms/step - loss: 3366.8020 - accuracy: 0.5147\n"
          ]
        },
        {
          "output_type": "display_data",
          "data": {
            "text/plain": [
              "<Figure size 640x480 with 1 Axes>"
            ],
            "image/png": "[encoded data removed]"
          },
          "metadata": {}
        }
      ]
    },
    {
      "cell_type": "markdown",
      "metadata": {
        "id": "kQqo38DeI403"
      },
      "source": [
        "# Do the data validation using the test data"
      ]
    },
    {
      "cell_type": "code",
      "metadata": {
        "id": "2taRrOn6I7Ry",
        "colab": {
          "base_uri": "https://localhost:8080/",
          "height": 34
        },
        "outputId": "0623a468-bd00-41b4-aaa5-d1b60aa47067"
      },
      "source": [
        "testDataset = (\n",
        "  tf.data.TFRecordDataset(testFilePath, compression_type='GZIP')\n",
        "    .map(parse_tfrecord, num_parallel_calls=5)\n",
        "    .map(toTuple)\n",
        "    .batch(1)\n",
        ")\n",
        "\n",
        "model.evaluate(testDataset)"
      ],
      "execution_count": null,
      "outputs": [
        {
          "output_type": "stream",
          "text": [
            "    151/Unknown - 2s 10ms/step - loss: 0.4941 - acc: 0.8146"
          ],
          "name": "stdout"
        },
        {
          "output_type": "execute_result",
          "data": {
            "text/plain": [
              "[0.49410629941916157, 0.81456953]"
            ]
          },
          "metadata": {
            "tags": []
          },
          "execution_count": 20
        }
      ]
    },
    {
      "cell_type": "markdown",
      "metadata": {
        "id": "ENi1OQZ6JCDm"
      },
      "source": [
        "# Save your model in your cloud bucket"
      ]
    },
    {
      "cell_type": "code",
      "metadata": {
        "id": "iRHxuq3IJHNQ"
      },
      "source": [
        "outputBucket = \"yourbucket/Hanoi/\"\n",
        "MODEL_DIR = 'gs://' + outputBucket + '/model'\n",
        "tf.contrib.saved_model.save_keras_model(model, MODEL_DIR)"
      ],
      "execution_count": null,
      "outputs": []
    },
    {
      "cell_type": "markdown",
      "metadata": {
        "id": "dFh0-34MJjG3"
      },
      "source": [
        "# Make your model readable for the earthEngine"
      ]
    },
    {
      "cell_type": "code",
      "metadata": {
        "id": "grSNIkxmha1b"
      },
      "source": [
        "from tensorflow.python.tools import saved_model_utils\n",
        "\n",
        "meta_graph_def = saved_model_utils.get_meta_graph_def(MODEL_DIR, 'serve')\n",
        "inputs = meta_graph_def.signature_def['serving_default'].inputs\n",
        "outputs = meta_graph_def.signature_def['serving_default'].outputs\n",
        "\n",
        "# Just get the first thing(s) from the serving signature def.  i.e. this\n",
        "# model only has a single input and a single output.\n",
        "input_name = None\n",
        "for k,v in inputs.items():\n",
        "  input_name = v.name\n",
        "  break\n",
        "\n",
        "output_name = None\n",
        "for k,v in outputs.items():\n",
        "  output_name = v.name\n",
        "  break\n",
        "\n",
        "# Make a dictionary that maps Earth Engine outputs and inputs to\n",
        "# AI Platform inputs and outputs, respectively.\n",
        "import json\n",
        "input_dict = \"'\" + json.dumps({input_name: \"array\"}) + \"'\"\n",
        "output_dict = \"'\" + json.dumps({output_name: label}) + \"'\"\n",
        "\n",
        "print(input_dict)\n",
        "print(output_dict)\n",
        "\n",
        "# Put the EEified model next to the trained model directory.\n",
        "EEIFIED_DIR = 'gs://' + outputBucket + '/eeified'\n",
        "PROJECT = 'servir-rlcms'\n",
        "\n",
        "#print(EEIFIED_DIR)\n",
        "# You need to set the project before using the model prepare command.\n",
        "!earthengine set_project {PROJECT}\n",
        "!earthengine model prepare --source_dir {MODEL_DIR} --dest_dir {EEIFIED_DIR} --input {input_dict} --output {output_dict}"
      ],
      "execution_count": null,
      "outputs": []
    },
    {
      "cell_type": "markdown",
      "metadata": {
        "id": "Bzeo0JluLXUw"
      },
      "source": [
        "# Push your model to the AI platform"
      ]
    },
    {
      "cell_type": "code",
      "metadata": {
        "id": "RY1gH6CsLZkZ",
        "colab": {
          "base_uri": "https://localhost:8080/",
          "height": 34
        },
        "outputId": "81d7ad44-1b25-47fd-98ce-ed3aa01ca968"
      },
      "source": [
        "import time\n",
        "MODEL_NAME = 'Hanoi'\n",
        "VERSION_NAME = 'v' + str(int(time.time()))\n",
        "print('Creating version: ' + VERSION_NAME)\n",
        "\n",
        "#!gcloud ai-platform models create {MODEL_NAME} --project {PROJECT}\n",
        "!gcloud ai-platform versions create {VERSION_NAME} \\\n",
        "  --project {PROJECT} \\\n",
        "  --model {MODEL_NAME} \\\n",
        "  --origin {EEIFIED_DIR} \\\n",
        "  --runtime-version=1.14 \\\n",
        "  --framework \"TENSORFLOW\" \\\n",
        "  --python-version=3.5"
      ],
      "execution_count": null,
      "outputs": [
        {
          "output_type": "stream",
          "text": [
            "Creating version: v1571915575\n"
          ],
          "name": "stdout"
        }
      ]
    }
  ]
}