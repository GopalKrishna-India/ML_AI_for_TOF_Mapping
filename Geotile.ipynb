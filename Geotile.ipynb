{
  "nbformat": 4,
  "nbformat_minor": 0,
  "metadata": {
    "colab": {
      "provenance": [],
      "authorship_tag": "ABX9TyOSoW0Oo4kf1CnDWDK3bGwz",
      "include_colab_link": true
    },
    "kernelspec": {
      "name": "python3",
      "display_name": "Python 3"
    },
    "language_info": {
      "name": "python"
    }
  },
  "cells": [
    {
      "cell_type": "markdown",
      "metadata": {
        "id": "view-in-github",
        "colab_type": "text"
      },
      "source": [
        "<a href=\"https://colab.research.google.com/github/GopalKrishna-India/ML_AI_for_TOF_Mapping/blob/main/Geotile.ipynb\" target=\"_parent\"><img src=\"https://colab.research.google.com/assets/colab-badge.svg\" alt=\"Open In Colab\"/></a>"
      ]
    },
    {
      "cell_type": "markdown",
      "source": [
        "# **Using Geotile package for input data preparation for Deep Learning classification**\n",
        "\n",
        "1.   This code reads the input image from Google Drive and generates its 256 by 256 tiles on the given location.\n",
        "2.   Similarly it reads the input training mask (for example tree=1 and all other features=2) and creates tiles of the mask same as the input image.\n",
        "\n",
        "**Caution:** the height, width and CRS must be the same for both input and mask images.\n"
      ],
      "metadata": {
        "id": "WAKZycvE5Qr4"
      }
    },
    {
      "cell_type": "markdown",
      "source": [
        "Udemy Course link: https://www.udemy.com/course/deep-learning-application-for-earth-observation/learn/lecture/34303262#overview\n",
        "\n",
        "Documentation on Geotile: **https://geotile.readthedocs.io/**"
      ],
      "metadata": {
        "id": "XGHJI8n-46wm"
      }
    },
    {
      "cell_type": "code",
      "execution_count": null,
      "metadata": {
        "id": "PUUpVtJ6Ze_g",
        "collapsed": true
      },
      "outputs": [],
      "source": [
        "!pip install geotile==0.2.3"
      ]
    },
    {
      "cell_type": "code",
      "source": [
        "from geotile import GeoTile"
      ],
      "metadata": {
        "id": "rzB1ASoc7cJf"
      },
      "execution_count": null,
      "outputs": []
    },
    {
      "cell_type": "code",
      "source": [
        "from google.colab import drive\n",
        "drive.mount('/content/Deep_Learning_tree')"
      ],
      "metadata": {
        "colab": {
          "base_uri": "https://localhost:8080/"
        },
        "id": "ZMPQJm3Y7dn4",
        "outputId": "0ea37d93-c268-4c0e-db32-93c550b384d4"
      },
      "execution_count": null,
      "outputs": [
        {
          "output_type": "stream",
          "name": "stdout",
          "text": [
            "Mounted at /content/Deep_Learning_tree\n"
          ]
        }
      ]
    },
    {
      "cell_type": "code",
      "source": [
        "import os\n",
        "os.chdir('/content/Deep_Learning_tree/MyDrive/Deep_Learning_tree/Data_Preparation')"
      ],
      "metadata": {
        "id": "rovaxHSa9AYe"
      },
      "execution_count": null,
      "outputs": []
    },
    {
      "cell_type": "code",
      "source": [
        "gt = GeoTile('/content/Deep_Learning_tree/MyDrive/Deep_Learning_tree/InputIm_Odisha_202122_4326.tif')"
      ],
      "metadata": {
        "id": "IlFvgiKB979-"
      },
      "execution_count": null,
      "outputs": []
    },
    {
      "cell_type": "code",
      "source": [
        "mask = GeoTile('/content/Deep_Learning_tree/MyDrive/Deep_Learning_tree/SingleTree_OdishaSS4pt7m.tif')"
      ],
      "metadata": {
        "id": "FmEhUE7KGBst"
      },
      "execution_count": null,
      "outputs": []
    },
    {
      "cell_type": "code",
      "source": [
        "testIm = GeoTile('/content/Deep_Learning_tree/MyDrive/Deep_Learning_tree/Odisha_202122_testImage.tif')"
      ],
      "metadata": {
        "id": "zVzNDOEHF92y"
      },
      "execution_count": null,
      "outputs": []
    },
    {
      "cell_type": "code",
      "source": [
        "# gt.height\n",
        "# gt.width\n",
        "testIm.meta"
      ],
      "metadata": {
        "colab": {
          "base_uri": "https://localhost:8080/"
        },
        "collapsed": true,
        "id": "w8KRKzTd-Sl1",
        "outputId": "a96ff5c5-27a0-43d5-ae31-9bd8abb56566"
      },
      "execution_count": null,
      "outputs": [
        {
          "output_type": "execute_result",
          "data": {
            "text/plain": [
              "{'driver': 'GTiff',\n",
              " 'dtype': 'float64',\n",
              " 'nodata': None,\n",
              " 'width': 1467,\n",
              " 'height': 562,\n",
              " 'count': 4,\n",
              " 'crs': CRS.from_wkt('GEOGCS[\"WGS 84\",DATUM[\"WGS_1984\",SPHEROID[\"WGS 84\",6378137,298.257223563,AUTHORITY[\"EPSG\",\"7030\"]],AUTHORITY[\"EPSG\",\"6326\"]],PRIMEM[\"Greenwich\",0,AUTHORITY[\"EPSG\",\"8901\"]],UNIT[\"degree\",0.0174532925199433,AUTHORITY[\"EPSG\",\"9122\"]],AXIS[\"Latitude\",NORTH],AXIS[\"Longitude\",EAST],AUTHORITY[\"EPSG\",\"4326\"]]'),\n",
              " 'transform': Affine(4.284963905250117e-05, 0.0, 82.41142530050394,\n",
              "        0.0, -4.284963905250117e-05, 20.832894612379334)}"
            ]
          },
          "metadata": {},
          "execution_count": 8
        }
      ]
    },
    {
      "cell_type": "code",
      "source": [
        "gt.generate_tiles('/content/Deep_Learning_tree/MyDrive/Deep_Learning_tree/Output/Image')\n"
      ],
      "metadata": {
        "id": "uk9E8m3c-cGG"
      },
      "execution_count": null,
      "outputs": []
    },
    {
      "cell_type": "code",
      "source": [
        "mask.generate_tiles('/content/Deep_Learning_tree/MyDrive/Deep_Learning_tree/Output/Mask', )"
      ],
      "metadata": {
        "id": "85vguuHNF6jj"
      },
      "execution_count": null,
      "outputs": []
    },
    {
      "cell_type": "code",
      "source": [
        "testIm.generate_tiles('/content/Deep_Learning_tree/MyDrive/Deep_Learning_tree/Output/TestImage', )"
      ],
      "metadata": {
        "id": "bALyOLW3JSD0"
      },
      "execution_count": null,
      "outputs": []
    }
  ]
}